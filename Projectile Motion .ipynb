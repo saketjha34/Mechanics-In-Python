{
 "cells": [
  {
   "cell_type": "code",
   "execution_count": 2,
   "id": "3a4139aa-ede5-4888-b0df-30982b8dd4c3",
   "metadata": {
    "tags": []
   },
   "outputs": [],
   "source": [
    "import numpy as np\n",
    "import matplotlib.pyplot as plt\n",
    "import sympy as sp\n",
    "import math"
   ]
  },
  {
   "cell_type": "code",
   "execution_count": 27,
   "id": "f09b09c3-0731-4af2-8c53-a64c97a3f214",
   "metadata": {
    "tags": []
   },
   "outputs": [],
   "source": [
    "x , y , t, u0,v0,s,v,u,g,theta , vx , vy= sp.symbols('x,y,t,u_0,v_0,s,v,u,g , theta ,v_x,v_y ')"
   ]
  },
  {
   "cell_type": "code",
   "execution_count": 94,
   "id": "67d26c97-e970-4e73-ae75-ee91a82d0dee",
   "metadata": {
    "tags": []
   },
   "outputs": [],
   "source": [
    "sx , sy , uy , T,H , R = sp.symbols('s_x , s_y , u_y , T,H ,R')"
   ]
  },
  {
   "cell_type": "markdown",
   "id": "18b6a43b-ef8e-4818-91be-43ea9aff379a",
   "metadata": {},
   "source": [
    "velocity components of projectile in x , y directions"
   ]
  },
  {
   "cell_type": "code",
   "execution_count": 29,
   "id": "fae068a4-2bfb-46b8-ac47-cc45d333613a",
   "metadata": {
    "tags": []
   },
   "outputs": [
    {
     "data": {
      "text/latex": [
       "$\\displaystyle - v_{0} \\cos{\\left(\\theta \\right)} + v_{x} = 0$"
      ],
      "text/plain": [
       "Eq(-v_0*cos(theta) + v_x, 0)"
      ]
     },
     "execution_count": 29,
     "metadata": {},
     "output_type": "execute_result"
    }
   ],
   "source": [
    "vx_eq = sp.Eq(vx - v0*sp.cos(theta), 0)\n",
    "vx_eq # x component of projectile velocity"
   ]
  },
  {
   "cell_type": "code",
   "execution_count": 30,
   "id": "64f91945-68c9-4ca3-9c6e-6168d4e621c5",
   "metadata": {
    "tags": []
   },
   "outputs": [
    {
     "data": {
      "text/latex": [
       "$\\displaystyle - v_{0} \\sin{\\left(\\theta \\right)} + v_{y} = 0$"
      ],
      "text/plain": [
       "Eq(-v_0*sin(theta) + v_y, 0)"
      ]
     },
     "execution_count": 30,
     "metadata": {},
     "output_type": "execute_result"
    }
   ],
   "source": [
    "vy_eq = sp.Eq(vy - v0*sp.sin(theta), 0)\n",
    "vy_eq # y component of projectile velocity"
   ]
  },
  {
   "cell_type": "markdown",
   "id": "ef613c77-09aa-49fb-8eed-f2c1bc8f9001",
   "metadata": {},
   "source": [
    "time period of projectile"
   ]
  },
  {
   "cell_type": "code",
   "execution_count": 31,
   "id": "f7f06933-6c8e-4c36-b52e-ea3451f7a7aa",
   "metadata": {
    "tags": []
   },
   "outputs": [
    {
     "data": {
      "text/latex": [
       "$\\displaystyle - g t + v_{0} \\sin{\\left(\\theta \\right)}$"
      ],
      "text/plain": [
       "-g*t + v_0*sin(theta)"
      ]
     },
     "execution_count": 31,
     "metadata": {},
     "output_type": "execute_result"
    }
   ],
   "source": [
    "v0*sp.sin(theta) - g*t"
   ]
  },
  {
   "cell_type": "markdown",
   "id": "8cc98075-80fc-469a-83ad-cbf0b756e629",
   "metadata": {},
   "source": [
    "for time period v_y must be 0"
   ]
  },
  {
   "cell_type": "code",
   "execution_count": 36,
   "id": "8c03cfcb-c619-4151-a052-a1ec2bac3e60",
   "metadata": {
    "tags": []
   },
   "outputs": [
    {
     "data": {
      "text/latex": [
       "$\\displaystyle - g t + v_{0} \\sin{\\left(\\theta \\right)} = 0$"
      ],
      "text/plain": [
       "Eq(-g*t + v_0*sin(theta), 0)"
      ]
     },
     "execution_count": 36,
     "metadata": {},
     "output_type": "execute_result"
    }
   ],
   "source": [
    "eq = sp.Eq(v0*sp.sin(theta) -g*t , 0)\n",
    "eq"
   ]
  },
  {
   "cell_type": "code",
   "execution_count": 38,
   "id": "9cb9c734-6284-4d52-a944-15ce151477b1",
   "metadata": {
    "tags": []
   },
   "outputs": [
    {
     "data": {
      "text/latex": [
       "$\\displaystyle \\frac{v_{0} \\sin{\\left(\\theta \\right)}}{g}$"
      ],
      "text/plain": [
       "v_0*sin(theta)/g"
      ]
     },
     "execution_count": 38,
     "metadata": {},
     "output_type": "execute_result"
    }
   ],
   "source": [
    "sp.solve(eq,t)[0]"
   ]
  },
  {
   "cell_type": "markdown",
   "id": "39a41116-d170-4622-a7a3-7b9c09a75686",
   "metadata": {
    "tags": []
   },
   "source": [
    "for the complete time period t = 2t because at maximum height(Hmax) v_y = 0"
   ]
  },
  {
   "cell_type": "code",
   "execution_count": 95,
   "id": "4ecef7a8-4aad-482c-98db-fcffdfb4d13c",
   "metadata": {
    "tags": []
   },
   "outputs": [
    {
     "data": {
      "text/latex": [
       "$\\displaystyle \\frac{2 v_{0} \\sin{\\left(\\theta \\right)}}{g}$"
      ],
      "text/plain": [
       "2*v_0*sin(theta)/g"
      ]
     },
     "execution_count": 95,
     "metadata": {},
     "output_type": "execute_result"
    }
   ],
   "source": [
    "T = 2*v0*sp.sin(theta)/g\n",
    "T"
   ]
  },
  {
   "cell_type": "markdown",
   "id": "9197315c-4d1c-46b9-a8b7-eb17d97d0add",
   "metadata": {},
   "source": [
    "Equation for displacement in x and y directions"
   ]
  },
  {
   "cell_type": "code",
   "execution_count": 51,
   "id": "fd1df624-384d-4ba0-b183-0e10a4ec251f",
   "metadata": {
    "tags": []
   },
   "outputs": [
    {
     "data": {
      "text/latex": [
       "$\\displaystyle \\frac{g t^{2}}{2} + s_{x} - t v_{x} = 0$"
      ],
      "text/plain": [
       "Eq(g*t**2/2 + s_x - t*v_x, 0)"
      ]
     },
     "execution_count": 51,
     "metadata": {},
     "output_type": "execute_result"
    }
   ],
   "source": [
    "sx_eq = sp.Eq(sx - vx*t + sp.Rational(1,2)*g*t**2,0)\n",
    "sx_eq"
   ]
  },
  {
   "cell_type": "markdown",
   "id": "f47aee79-d7eb-49ab-9547-78ba1873f685",
   "metadata": {},
   "source": [
    "since g is zero in x direction therefore equation reduces to "
   ]
  },
  {
   "cell_type": "code",
   "execution_count": 53,
   "id": "4a348d3f-9913-4f4b-a111-8fa1548e4659",
   "metadata": {
    "tags": []
   },
   "outputs": [
    {
     "data": {
      "text/latex": [
       "$\\displaystyle s_{x} - t v_{0} \\cos{\\left(\\theta \\right)} = 0$"
      ],
      "text/plain": [
       "Eq(s_x - t*v_0*cos(theta), 0)"
      ]
     },
     "execution_count": 53,
     "metadata": {},
     "output_type": "execute_result"
    }
   ],
   "source": [
    "sx_eq = sp.Eq(sx - v0*sp.cos(theta)*t , 0)\n",
    "sx_eq"
   ]
  },
  {
   "cell_type": "code",
   "execution_count": 55,
   "id": "77b16b0a-935d-4463-9a4f-69b0fe384a2a",
   "metadata": {
    "tags": []
   },
   "outputs": [
    {
     "data": {
      "text/latex": [
       "$\\displaystyle \\frac{g t^{2}}{2} + s_{y} - t v_{y} = 0$"
      ],
      "text/plain": [
       "Eq(g*t**2/2 + s_y - t*v_y, 0)"
      ]
     },
     "execution_count": 55,
     "metadata": {},
     "output_type": "execute_result"
    }
   ],
   "source": [
    "sy_eq = sp.Eq(sy - vy*t + sp.Rational(1,2)*g*t**2 , 0)\n",
    "sy_eq"
   ]
  },
  {
   "cell_type": "markdown",
   "id": "be1bfed7-ad7a-4c25-bc6e-f9ca46caf073",
   "metadata": {},
   "source": [
    "Hmax for projectile"
   ]
  },
  {
   "cell_type": "code",
   "execution_count": 60,
   "id": "63504b9f-c27e-4489-b1bd-b005ae727938",
   "metadata": {
    "tags": []
   },
   "outputs": [
    {
     "data": {
      "text/latex": [
       "$\\displaystyle 2 H g - u_{y}^{2} + v_{y}^{2} = 0$"
      ],
      "text/plain": [
       "Eq(2*H*g - u_y**2 + v_y**2, 0)"
      ]
     },
     "execution_count": 60,
     "metadata": {},
     "output_type": "execute_result"
    }
   ],
   "source": [
    "h_eq = sp.Eq(vy**2 - uy**2 + 2*g*H , 0)\n",
    "h_eq"
   ]
  },
  {
   "cell_type": "code",
   "execution_count": 62,
   "id": "c63c0383-cf0a-47d1-88e4-0c9e3385326b",
   "metadata": {
    "tags": []
   },
   "outputs": [
    {
     "data": {
      "text/latex": [
       "$\\displaystyle 2 H g - u_{y}^{2} = 0$"
      ],
      "text/plain": [
       "Eq(2*H*g - u_y**2, 0)"
      ]
     },
     "execution_count": 62,
     "metadata": {},
     "output_type": "execute_result"
    }
   ],
   "source": [
    "#For Hmax vy is zero\n",
    "h_eq = sp.Eq(2*H*g - uy**2 , 0)\n",
    "h_eq"
   ]
  },
  {
   "cell_type": "code",
   "execution_count": 64,
   "id": "c7786c53-501f-4d43-8612-ef0069960dd9",
   "metadata": {
    "tags": []
   },
   "outputs": [
    {
     "data": {
      "text/latex": [
       "$\\displaystyle \\frac{u_{y}^{2}}{2 g}$"
      ],
      "text/plain": [
       "u_y**2/(2*g)"
      ]
     },
     "execution_count": 64,
     "metadata": {},
     "output_type": "execute_result"
    }
   ],
   "source": [
    "sp.solve(h_eq , H)[0]"
   ]
  },
  {
   "cell_type": "code",
   "execution_count": 67,
   "id": "1a826113-45f6-46f3-aaab-5323e4a0c398",
   "metadata": {
    "tags": []
   },
   "outputs": [
    {
     "data": {
      "text/latex": [
       "$\\displaystyle \\frac{v_{0}^{2} \\sin{\\left(\\theta \\right)}}{2 g}$"
      ],
      "text/plain": [
       "v_0**2*sin(theta)/(2*g)"
      ]
     },
     "execution_count": 67,
     "metadata": {},
     "output_type": "execute_result"
    }
   ],
   "source": [
    "Hmax = v0**2*sp.sin(theta)/(2*g)\n",
    "Hmax"
   ]
  },
  {
   "cell_type": "markdown",
   "id": "0b69bdcd-778b-495e-a638-3b9fa0b26e87",
   "metadata": {},
   "source": [
    "general coordinates of projectile at (x,y) at a given time t"
   ]
  },
  {
   "cell_type": "code",
   "execution_count": 76,
   "id": "91d4c3ae-52f5-4d06-823b-c0402238db80",
   "metadata": {
    "tags": []
   },
   "outputs": [
    {
     "data": {
      "text/latex": [
       "$\\displaystyle \\frac{g t^{2}}{2} - t v_{0} \\sin{\\left(\\theta \\right)} + y = 0$"
      ],
      "text/plain": [
       "Eq(g*t**2/2 - t*v_0*sin(theta) + y, 0)"
      ]
     },
     "execution_count": 76,
     "metadata": {},
     "output_type": "execute_result"
    }
   ],
   "source": [
    "eq1 = sp.Eq(y - v0*sp.sin(theta)*t + sp.Rational(1,2)*g*t**2 , 0)\n",
    "eq1"
   ]
  },
  {
   "cell_type": "code",
   "execution_count": 80,
   "id": "87164905-5b8e-411d-8249-0d805c1de77e",
   "metadata": {
    "tags": []
   },
   "outputs": [
    {
     "data": {
      "text/latex": [
       "$\\displaystyle - t v_{0} \\cos{\\left(\\theta \\right)} + x = 0$"
      ],
      "text/plain": [
       "Eq(-t*v_0*cos(theta) + x, 0)"
      ]
     },
     "execution_count": 80,
     "metadata": {},
     "output_type": "execute_result"
    }
   ],
   "source": [
    "eq2 = sp.Eq(x-v0*sp.cos(theta)*t , 0)\n",
    "eq2"
   ]
  },
  {
   "cell_type": "code",
   "execution_count": 84,
   "id": "ab14a565-80bd-4cff-8d96-c79dc9ed8056",
   "metadata": {
    "tags": []
   },
   "outputs": [
    {
     "data": {
      "text/latex": [
       "$\\displaystyle \\frac{x}{v_{0} \\cos{\\left(\\theta \\right)}}$"
      ],
      "text/plain": [
       "x/(v_0*cos(theta))"
      ]
     },
     "execution_count": 84,
     "metadata": {},
     "output_type": "execute_result"
    }
   ],
   "source": [
    "t_value = sp.solve(eq2 , t)[0]\n",
    "t_value"
   ]
  },
  {
   "cell_type": "code",
   "execution_count": 92,
   "id": "94697bbe-9158-45e3-ad40-2d8385bf700c",
   "metadata": {
    "tags": []
   },
   "outputs": [
    {
     "data": {
      "text/latex": [
       "$\\displaystyle \\frac{g x^{2}}{2 v_{0}^{2} \\cos^{2}{\\left(\\theta \\right)}} - \\frac{x \\sin{\\left(2 \\theta \\right)}}{2 \\cos^{2}{\\left(\\theta \\right)}} + y = 0$"
      ],
      "text/plain": [
       "Eq(g*x**2/(2*v_0**2*cos(theta)**2) - x*sin(2*theta)/(2*cos(theta)**2) + y, 0)"
      ]
     },
     "execution_count": 92,
     "metadata": {},
     "output_type": "execute_result"
    }
   ],
   "source": [
    "eq3 = eq1.subs(t, t_value)\n",
    "eq3.simplify()"
   ]
  },
  {
   "cell_type": "markdown",
   "id": "fc75e019-5fa8-42f2-b13d-0fc5696b94bd",
   "metadata": {
    "tags": []
   },
   "source": [
    "Range of Projectile"
   ]
  },
  {
   "cell_type": "code",
   "execution_count": 99,
   "id": "4d523876-a774-4f8d-9e7c-bc2582f5b5c4",
   "metadata": {
    "tags": []
   },
   "outputs": [
    {
     "data": {
      "text/latex": [
       "$\\displaystyle R - \\frac{2 v_{0} v_{x} \\sin{\\left(\\theta \\right)}}{g} = 0$"
      ],
      "text/plain": [
       "Eq(R - 2*v_0*v_x*sin(theta)/g, 0)"
      ]
     },
     "execution_count": 99,
     "metadata": {},
     "output_type": "execute_result"
    }
   ],
   "source": [
    "eq1 = sp.Eq(R - vx*T , 0)\n",
    "eq1"
   ]
  },
  {
   "cell_type": "code",
   "execution_count": 100,
   "id": "2c24037a-192c-4367-973d-36080bf7b199",
   "metadata": {
    "tags": []
   },
   "outputs": [
    {
     "data": {
      "text/latex": [
       "$\\displaystyle R - \\frac{2 v_{0}^{2} \\sin{\\left(\\theta \\right)} \\cos{\\left(\\theta \\right)}}{g} = 0$"
      ],
      "text/plain": [
       "Eq(R - 2*v_0**2*sin(theta)*cos(theta)/g, 0)"
      ]
     },
     "execution_count": 100,
     "metadata": {},
     "output_type": "execute_result"
    }
   ],
   "source": [
    "eq1.subs(vx , v0*sp.cos(theta))"
   ]
  },
  {
   "cell_type": "code",
   "execution_count": 102,
   "id": "44e88c33-3dc5-4a5f-8752-b690fef6233d",
   "metadata": {
    "tags": []
   },
   "outputs": [
    {
     "data": {
      "text/latex": [
       "$\\displaystyle \\frac{2 \\sin{\\left(\\theta \\right)} \\cos{\\left(\\theta \\right)}}{g}$"
      ],
      "text/plain": [
       "2*sin(theta)*cos(theta)/g"
      ]
     },
     "execution_count": 102,
     "metadata": {},
     "output_type": "execute_result"
    }
   ],
   "source": [
    "R = 2*sp.sin(theta)*sp.cos(theta)/g\n",
    "R"
   ]
  },
  {
   "cell_type": "code",
   "execution_count": null,
   "id": "34a402da-47b4-44bb-bd26-a4a17deb6232",
   "metadata": {},
   "outputs": [],
   "source": []
  },
  {
   "cell_type": "code",
   "execution_count": null,
   "id": "c877ee45-41b1-49ee-b372-077be5519f24",
   "metadata": {},
   "outputs": [],
   "source": []
  }
 ],
 "metadata": {
  "kernelspec": {
   "display_name": "Python 3 (ipykernel)",
   "language": "python",
   "name": "python3"
  },
  "language_info": {
   "codemirror_mode": {
    "name": "ipython",
    "version": 3
   },
   "file_extension": ".py",
   "mimetype": "text/x-python",
   "name": "python",
   "nbconvert_exporter": "python",
   "pygments_lexer": "ipython3",
   "version": "3.11.4"
  }
 },
 "nbformat": 4,
 "nbformat_minor": 5
}
